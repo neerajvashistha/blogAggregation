{
 "cells": [
  {
   "cell_type": "code",
   "execution_count": 138,
   "metadata": {},
   "outputs": [],
   "source": [
    "import json\n",
    "import pandas as pd\n",
    "rawData = json.load(open('articles.json'))\n",
    "df = pd.DataFrame(rawData)"
   ]
  },
  {
   "cell_type": "code",
   "execution_count": 123,
   "metadata": {},
   "outputs": [
    {
     "name": "stdout",
     "output_type": "stream",
     "text": [
      "<class 'pandas.core.frame.DataFrame'>\n",
      "RangeIndex: 117 entries, 0 to 116\n",
      "Data columns (total 3 columns):\n",
      "title    117 non-null object\n",
      "url      117 non-null object\n",
      "body     117 non-null object\n",
      "dtypes: object(3)\n",
      "memory usage: 2.9+ KB\n"
     ]
    }
   ],
   "source": [
    "df.info()"
   ]
  },
  {
   "cell_type": "code",
   "execution_count": 139,
   "metadata": {},
   "outputs": [],
   "source": [
    "# df=df.head()\n",
    "\n",
    "df = df.astype(str)\n"
   ]
  },
  {
   "cell_type": "code",
   "execution_count": 110,
   "metadata": {},
   "outputs": [],
   "source": [
    "# !pip install BeautifulSoup4\n",
    "# !pip install requests\n"
   ]
  },
  {
   "cell_type": "code",
   "execution_count": 140,
   "metadata": {},
   "outputs": [],
   "source": [
    "from bs4 import BeautifulSoup\n",
    "import requests\n",
    "\n",
    "def getBlogData(url):\n",
    "#     print(url)\n",
    "    html = requests.get(url)\n",
    "    soup = BeautifulSoup(html.text)\n",
    "    text = soup.find_all(text=True)\n",
    "\n",
    "    output = ''\n",
    "    blacklist = ['[document]','noscript','header','html','meta','head','input','script','style','header','footer']\n",
    "\n",
    "    for t in text:\n",
    "        if t.parent.name not in blacklist:\n",
    "            output += '{} '.format(t)\n",
    "\n",
    "    return output"
   ]
  },
  {
   "cell_type": "code",
   "execution_count": 141,
   "metadata": {},
   "outputs": [
    {
     "name": "stdout",
     "output_type": "stream",
     "text": [
      "http://sethgodin.typepad.com/seths_blog/2009/09/understanding-business-development.html\n",
      "http://whatismarketresearch.com/market-research-types/what-are-different-types-of-marketing-research/\n",
      "https://www.credibly.com/incredibly/5-low-cost-marketing-research-techniques-small-businesses/\n",
      "https://hired.com/blog/highlights/product-managers-new-software-engineers/\n",
      "https://medium.com/founder-playbook/500-startups-the-how-to-guide-for-finding-product-market-fit-878c91b20343\n",
      "https://www.campaigncreators.com/blog/competitive-analysis-how-to-analyze-competitive-information\n",
      "https://buckfiftymba.com/7-technical-skills-growth-marketing/\n",
      "https://criteriaforsuccess.com/the-importance-of-lead-generation/\n",
      "https://www.entrepreneur.com/encyclopedia/market-research\n",
      "https://leankit.com/learn/kanban/kanban-agile/\n",
      "https://www.cleverism.com/mergers-and-acquisitions-complete-guide/\n",
      "https://bigthink.com/cue-the-future/the-trick-to-viral-growth\n",
      "https://ssir.org/articles/entry/in_search_of_the_hybrid_ideal\n",
      "https://digitalmarketinginstitute.com/blog/2017-4-27-the-beginners-guide-to-defining-buyer-personas\n",
      "https://startuprunner.com/engineering-marketing-traction-channel-10/\n",
      "https://jobs-to-be-done.com/the-5-tenets-of-jobs-to-be-done-theory-ba58c3a093c1\n",
      "http://seedcamp.com/resources/the-behavioural-roadmap-for-startups/\n",
      "http://www.businessinsider.com/startup-exits-should-be-positive-and-planned-early-2011-1\n",
      "https://www.tlnt.com/4-diverse-work-styles-and-3-ways-to-manage-them/\n",
      "https://library.gv.com/sprint-week-monday-4bf0606b5c81\n",
      "https://blog.hubspot.com/agency/9-qualities-every-business-development-professional-should-have\n",
      "http://playbook.amanet.org/storytelling-business-communication-skill/\n",
      "https://www.projectmanager.com/blog/kanban-vs-scrum-better\n",
      "https://medium.com/the-mission/how-to-define-and-build-a-great-organizational-culture-in-2018-f8b972e433b6\n",
      "https://www.liveplan.com/blog/2016/12/how-to-deal-with-industry-competition/\n",
      "https://fi.co/insight/the-10-most-popular-startup-revenue-models\n",
      "https://www.oberlo.co.uk/ecommerce-wiki/market-research\n",
      "https://yesler.com/blog/customer-engagement/the-7-habits-of-highly-effective-strategic-account-managers\n",
      "https://medium.com/swlh/the-role-of-a-product-manager-e0354b4b6845\n",
      "http://www.nextupasia.com/is-affiliate-marketing-for-startups/\n",
      "https://www.inc.com/peter-economy/11-surprisingly-effective-ways-to-lead-by-example.html\n",
      "https://www.crazyeyemarketing.com/blog/the-2-step-facebook-lead-gen-funnel-for-local-businesses/\n",
      "http://www.coxblue.com/when-is-it-time-to-scale-your-business/\n",
      "https://www.usertesting.com/blog/2015/08/20/7-steps-for-more-effective-ab-testing/\n",
      "https://www.thebalance.com/why-marketing-research-is-important-to-your-business-2296119\n",
      "https://blog.hubspot.com/sales/perfect-outbound-sales-plan\n",
      "http://buzz.greatfxprinting.com/inexpensive-market-research.htm\n",
      "https://hackernoon.com/metrics-game-framework-5e3dce1be8ac\n",
      "https://medium.com/@Productized/what-jobs-to-be-done-research-can-teach-you-about-your-users-your-product-and-your-company-b5240089c95b\n",
      "https://blog.producthunt.com/10-resources-to-help-you-grow-a-lean-startup-aad02b2354c\n",
      "https://inform.tmforum.org/internet-of-everything/2017/04/pipes-platforms-leveraging-network-effect/\n",
      "https://www.corporateculturepros.com/culture-definition-revolution-improve-business-innovation-growth/\n",
      "https://www.mckinsey.com/industries/high-tech/our-insights/grow-fast-or-die-slow-the-double-edged-sword-of-m-and-a\n",
      "https://www.digitalmicdrop.com/2017/08/31/lead-generation-important-business/\n",
      "https://community.uservoice.com/blog/how-to-distinguish-between-your-product-roadmap-product-strategy-and-product-vision/\n",
      "https://efinancemanagement.com/mergers-and-acquisitions/classification-types-of-mergers\n",
      "https://www.techstars.com/content/accelerators/boston/hiring-the-single-most-important-skill-as-a-founder/\n",
      "https://www.cgma.org/resources/tools/essential-tools/porters-five-forces.html\n",
      "https://www.cooper.com/journal/2017/1/5_insights_for_improving_produ\n",
      "https://evoma.com/business-centre/top-10-must-have-skills-for-startup-success/\n",
      "https://www.invespcro.com/blog/what-is-conversion-rate-optimization/\n",
      "https://medium.com/swlh/agile-is-the-new-waterfall-a-followup-f1c0bcd2162e\n",
      "https://www.paycom.com/resources/blog/difference-between-diversity-and-inclusion-and-why-you-need-both/\n",
      "https://www.startupdecisions.com.sg/startups/launch-and-growth/key-legal-company-documents/\n",
      "https://www.mbaskool.com/business-concepts/marketing-and-strategy-terms/7313-market-entry.html\n",
      "https://medium.com/frameplay/pt-2-selling-jobs-to-be-done-who-s-the-customer-e3a5f80ba527\n",
      "https://blog.intercom.com/the-right-type-of-customer-conversations/\n",
      "https://www.entrepreneur.com/article/297435\n",
      "https://www.thebalance.com/year-over-year-yoy-growth-calculation-definition-3305970\n",
      "https://blog.prototypr.io/30dayuxchallenge-day-5-get-to-know-your-user-personas-jobs-to-be-done-d0c272ffed58\n",
      "https://hackernoon.com/do-not-raise-vc-funding-3-reasons-against-it-7c5f6d4efbec\n",
      "https://www.quicktapsurvey.com/blog/creative-ways-to-identify-new-market-segments/\n",
      "https://uxplanet.org/what-is-the-product-market-fit-and-how-to-measure-it-b5bb3db07dae\n",
      "https://hub.uberflip.com/lead-generation/how-industry-leading-brands-use-content-to-drive-lead-generation\n",
      "https://hbr.org/2011/02/how-to-pick-a-co-founder\n",
      "https://medium.com/lightspeed-venture-partners/fun-is-the-best-driver-of-viral-growth-664424a41ff7\n",
      "https://blog.hubspot.com/agency/traits-account-managers\n",
      "https://www.startups.co/articles/lean-startup-methodology-can-help\n",
      "https://www.inc.com/sangram-vajre/5-must-have-skills-startup-founders-cant-live-without.html\n",
      "https://www.forbes.com/sites/jacobmorgan/2016/04/22/what-is-employee-experience/#3297f1e7386c\n",
      "https://medium.com/@Alex.Valaitis/what-is-a-product-manager-actually-f328f05575\n",
      "http://alignorg.com/library/resource/boxology-the-mythical-science-of-organizational-change/\n",
      "https://medium.com/frameplay/which-methodology-should-you-hire-to-apply-jobs-to-be-done-pt-1-f24baff27b21\n",
      "http://marcbarros.com/generating-startup-ideas/\n",
      "https://smallbiztrends.com/2006/01/how-marketing-research-can-benefit-a-small-business.html\n",
      "http://www.coxblue.com/growth-hacking-how-to-implement-an-ab-testing-model/\n",
      "https://www.feedough.com/how-does-whatsapp-make-money/\n",
      "https://hackernoon.com/killing-the-product-development-assembly-line-2176bde2a4d9\n",
      "http://templaradvisors.com/blog/how-smart-leaders-use-storytelling\n",
      "https://www.agilealliance.org/glossary/customer-development/\n",
      "https://venturebeat.com/2013/02/10/5-huge-mistakes-startups-make-when-choosing-board-members/\n",
      "https://www.shopify.com/encyclopedia/distribution-channel\n",
      "https://medium.com/@marcintreder/design-systems-sprint-0-the-silver-bullet-of-product-development-8c0ed83bf00d\n",
      "https://www.entrepreneur.com/article/247522\n",
      "https://blog.clickfunnels.com/attract-people-funnel-simple-hacks/\n",
      "https://jobs-to-be-done.com/what-is-jobs-to-be-done-fea59c8e39eb\n",
      "https://community.uservoice.com/blog/user-research-vs-market-research/\n",
      "https://jtbd.info/2-what-is-jobs-to-be-done-jtbd-796b82081cca\n",
      "https://blog.hootsuite.com/how-to-create-a-social-media-marketing-plan/\n",
      "https://medium.com/startup-grind/how-to-come-up-with-startup-ideas-that-are-worth-your-time-36cc54b53b5\n",
      "https://smallbusiness.chron.com/calculate-percent-sales-growth-income-statement-67997.html\n",
      "https://www.marketing91.com/product-strategy/\n",
      "https://medium.com/startup-grind/the-startup-funding-guide-pitch-deck-term-sheets-investors-equity-crowdfunding-a212ba9cdab7\n",
      "https://medium.com/@joe_fairless/3-unique-ways-to-increase-your-network-and-generate-more-leads-7f0d6cadee97\n",
      "https://medium.com/get-greenlit/the-basics-of-customer-development-for-new-entrepreneurs-5647f0ca37ff\n",
      "https://www.td.org/insights/what-employees-want-from-the-performance-management-process\n",
      "http://blog.eladgil.com/2012/04/never-ever-compromise-hiring-for.html\n"
     ]
    }
   ],
   "source": [
    "df['body'] = df.apply(lambda x: getBlogData(x.url) if x.body is '' else x.body , axis=1)"
   ]
  },
  {
   "cell_type": "code",
   "execution_count": 143,
   "metadata": {},
   "outputs": [],
   "source": [
    "df.to_csv('raw_blog_content.csv',index=False)"
   ]
  }
 ],
 "metadata": {
  "kernelspec": {
   "display_name": "Python 3",
   "language": "python",
   "name": "python3"
  },
  "language_info": {
   "codemirror_mode": {
    "name": "ipython",
    "version": 3
   },
   "file_extension": ".py",
   "mimetype": "text/x-python",
   "name": "python",
   "nbconvert_exporter": "python",
   "pygments_lexer": "ipython3",
   "version": "3.6.8"
  }
 },
 "nbformat": 4,
 "nbformat_minor": 2
}
