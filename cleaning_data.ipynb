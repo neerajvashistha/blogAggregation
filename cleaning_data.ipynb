{
 "cells": [
  {
   "cell_type": "code",
   "execution_count": 31,
   "metadata": {},
   "outputs": [
    {
     "name": "stdout",
     "output_type": "stream",
     "text": [
      "                                          title  \\\n",
      "count                                       117   \n",
      "unique                                      117   \n",
      "top     One Cow Describes Eight Business Models   \n",
      "freq                                          1   \n",
      "\n",
      "                                                      url  \\\n",
      "count                                                 117   \n",
      "unique                                                117   \n",
      "top     https://www.cleverism.com/mergers-and-acquisit...   \n",
      "freq                                                    1   \n",
      "\n",
      "                                               body  \n",
      "count                                           117  \n",
      "unique                                          108  \n",
      "top     403 Forbidden \\n 403 Forbidden \\n nginx \\n   \n",
      "freq                                              9  \n"
     ]
    }
   ],
   "source": [
    "import pandas as pd\n",
    "df = pd.read_csv('raw_blog_content_original.csv')\n",
    "print(df.describe())"
   ]
  },
  {
   "cell_type": "code",
   "execution_count": 150,
   "metadata": {},
   "outputs": [],
   "source": [
    "df_1 = pd.read_csv('raw_blog_content_1.csv')"
   ]
  },
  {
   "cell_type": "code",
   "execution_count": 151,
   "metadata": {},
   "outputs": [
    {
     "name": "stdout",
     "output_type": "stream",
     "text": [
      "0                     Understanding Business Development\n",
      "1        What are different types of Marketing Research?\n",
      "2      5 Low-Cost Marketing Research Techniques for S...\n",
      "3       Are Product Managers the New Software Engineers?\n",
      "4      500 Startups: The How-To Guide for Finding Pro...\n",
      "                             ...                        \n",
      "112    The Basics of Customer Development for New Ent...\n",
      "113    Do You Really Need Passion to Launch a Startup...\n",
      "114    What Employees Want From the Performance Manag...\n",
      "115                          What Do Boards Actually Do?\n",
      "116       Never, Ever Compromise: Hiring For Culture Fit\n",
      "Name: title, Length: 117, dtype: object\n"
     ]
    }
   ],
   "source": [
    "print(df['title'])"
   ]
  },
  {
   "cell_type": "code",
   "execution_count": 153,
   "metadata": {},
   "outputs": [
    {
     "name": "stdout",
     "output_type": "stream",
     "text": [
      "0                     Understanding Business Development\n",
      "1        What are different types of Marketing Research?\n",
      "2      5 Low-Cost Marketing Research Techniques for S...\n",
      "3       Are Product Managers the New Software Engineers?\n",
      "4       500 Startups: The How-To Guide for Finding Pr...\n",
      "                             ...                        \n",
      "112    The Basics of Customer Development for New Ent...\n",
      "113    Do You Really Need Passion to Launch a Startup...\n",
      "114    What Employees Want From the Performance Manag...\n",
      "115                          What Do Boards Actually Do?\n",
      "116        Never Ever Compromise: Hiring For Culture Fit\n",
      "Name: title, Length: 117, dtype: object\n"
     ]
    }
   ],
   "source": [
    "print(df_1['title'])"
   ]
  },
  {
   "cell_type": "code",
   "execution_count": 95,
   "metadata": {},
   "outputs": [],
   "source": [
    "def preProcess(text):\n",
    "    #print \"original:\", text\n",
    "    # sentence segmentation - assume already done\n",
    "    pass\n",
    "    # word tokenisation\n",
    "    text = re.sub(r\"(\\w)([.,;:!?'\\\"”\\)])\", r\"\\1 \\2\", text)\n",
    "    text = re.sub(r\"([.,;:!?'\\\"“\\(])(\\w)\", r\"\\1 \\2\", text)\n",
    "    #print \"tokenising:\", text\n",
    "    tokens = re.split(r\"\\s+\",text)\n",
    "    # normalisation\n",
    "    text = re.sub(r\"(\\S)\\1\\1+\",r\"\\1\\1\\1\", text)\n",
    "    tokens = [t.lower() for t in tokens]\n",
    "    return tokens"
   ]
  },
  {
   "cell_type": "code",
   "execution_count": null,
   "metadata": {},
   "outputs": [],
   "source": []
  }
 ],
 "metadata": {
  "kernelspec": {
   "display_name": "Python 3",
   "language": "python",
   "name": "python3"
  },
  "language_info": {
   "codemirror_mode": {
    "name": "ipython",
    "version": 3
   },
   "file_extension": ".py",
   "mimetype": "text/x-python",
   "name": "python",
   "nbconvert_exporter": "python",
   "pygments_lexer": "ipython3",
   "version": "3.6.8"
  }
 },
 "nbformat": 4,
 "nbformat_minor": 2
}
